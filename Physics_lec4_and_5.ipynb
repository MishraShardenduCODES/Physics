{
  "nbformat": 4,
  "nbformat_minor": 0,
  "metadata": {
    "colab": {
      "provenance": [],
      "authorship_tag": "ABX9TyNrdZdV7d0ebKF3Mm4jCQ6j",
      "include_colab_link": true
    },
    "kernelspec": {
      "name": "python3",
      "display_name": "Python 3"
    },
    "language_info": {
      "name": "python"
    }
  },
  "cells": [
    {
      "cell_type": "markdown",
      "metadata": {
        "id": "view-in-github",
        "colab_type": "text"
      },
      "source": [
        "<a href=\"https://colab.research.google.com/github/MishraShardenduCODES/Physics/blob/main/Physics_lec4_and_5.ipynb\" target=\"_parent\"><img src=\"https://colab.research.google.com/assets/colab-badge.svg\" alt=\"Open In Colab\"/></a>"
      ]
    },
    {
      "cell_type": "code",
      "execution_count": null,
      "metadata": {
        "id": "fY0cb4Tnyfwv"
      },
      "outputs": [],
      "source": [
        "import numpy as np\n",
        "import pylab as py"
      ]
    },
    {
      "cell_type": "code",
      "source": [
        "while(1):\n",
        "  a = int(input(\"Tell a number : \"))\n",
        "  if (a%2==0):\n",
        "    print(\"It's a even number \")\n",
        "  elif(a<0):\n",
        "    break\n",
        "  else:\n",
        "    print(\"It's an odd number \")"
      ],
      "metadata": {
        "colab": {
          "base_uri": "https://localhost:8080/"
        },
        "id": "d0MuaMl5ynB7",
        "outputId": "408fd396-ee44-40d6-b406-a186de0c95d6"
      },
      "execution_count": null,
      "outputs": [
        {
          "name": "stdout",
          "output_type": "stream",
          "text": [
            "Tell a number : 5\n",
            "It's an odd number \n",
            "Tell a number : 4\n",
            "It's a even number \n",
            "Tell a number : 2\n",
            "It's a even number \n",
            "Tell a number : 1\n",
            "It's an odd number \n",
            "Tell a number : -9\n"
          ]
        }
      ]
    },
    {
      "cell_type": "code",
      "source": [
        "# this took help of chat gpt (5%) #\n",
        "import math as mt\n",
        "\n",
        "def chck_prime(num):\n",
        "    if num <= 1:\n",
        "        return False\n",
        "    for i in range(2, int(mt.sqrt(num)) + 1):\n",
        "        if num % i == 0:\n",
        "            return False\n",
        "    return True\n",
        "\n",
        "b = int(input(\"Tell a number: \"))\n",
        "for i in range(b + 1):\n",
        "    if chck_prime(i):\n",
        "        print(str(i) + \" is a prime number\")\n"
      ],
      "metadata": {
        "colab": {
          "base_uri": "https://localhost:8080/"
        },
        "id": "02wO6il58Pvs",
        "outputId": "c97a2ea0-d7e0-42c5-ce33-19d76c8dc7a2"
      },
      "execution_count": null,
      "outputs": [
        {
          "output_type": "stream",
          "name": "stdout",
          "text": [
            "Tell a number: 102\n",
            "2 is a prime number\n",
            "3 is a prime number\n",
            "5 is a prime number\n",
            "7 is a prime number\n",
            "11 is a prime number\n",
            "13 is a prime number\n",
            "17 is a prime number\n",
            "19 is a prime number\n",
            "23 is a prime number\n",
            "29 is a prime number\n",
            "31 is a prime number\n",
            "37 is a prime number\n",
            "41 is a prime number\n",
            "43 is a prime number\n",
            "47 is a prime number\n",
            "53 is a prime number\n",
            "59 is a prime number\n",
            "61 is a prime number\n",
            "67 is a prime number\n",
            "71 is a prime number\n",
            "73 is a prime number\n",
            "79 is a prime number\n",
            "83 is a prime number\n",
            "89 is a prime number\n",
            "97 is a prime number\n",
            "101 is a prime number\n"
          ]
        }
      ]
    },
    {
      "cell_type": "code",
      "source": [
        "# this is completely made by me #\n",
        "import math\n",
        "def chck_prime(num):\n",
        "  stpr=0;\n",
        "  m = math.floor(num**(1.0/2.0))\n",
        "  for i in range (2,m+1) :\n",
        "    if(num%i==0):\n",
        "      stpr=1\n",
        "      break;\n",
        "    else:\n",
        "      continue;\n",
        "\n",
        "  if(stpr == 1):\n",
        "    return False\n",
        "  else:\n",
        "    return True\n",
        "\n",
        "\n",
        "b = int(input(\"Tell a number : \"))\n",
        "for i in range(2,b + 1):\n",
        "    if chck_prime(i):\n",
        "        print(str(i) + \" is a prime number \")\n"
      ],
      "metadata": {
        "colab": {
          "base_uri": "https://localhost:8080/"
        },
        "id": "mYl0Af2T-QSd",
        "outputId": "88f2e0e0-035d-4bf3-f64a-b413825803a9"
      },
      "execution_count": null,
      "outputs": [
        {
          "output_type": "stream",
          "name": "stdout",
          "text": [
            "Tell a number : 102\n",
            "2 is a prime number \n",
            "3 is a prime number \n",
            "5 is a prime number \n",
            "7 is a prime number \n",
            "11 is a prime number \n",
            "13 is a prime number \n",
            "17 is a prime number \n",
            "19 is a prime number \n",
            "23 is a prime number \n",
            "29 is a prime number \n",
            "31 is a prime number \n",
            "37 is a prime number \n",
            "41 is a prime number \n",
            "43 is a prime number \n",
            "47 is a prime number \n",
            "53 is a prime number \n",
            "59 is a prime number \n",
            "61 is a prime number \n",
            "67 is a prime number \n",
            "71 is a prime number \n",
            "73 is a prime number \n",
            "79 is a prime number \n",
            "83 is a prime number \n",
            "89 is a prime number \n",
            "97 is a prime number \n",
            "101 is a prime number \n"
          ]
        }
      ]
    },
    {
      "cell_type": "code",
      "source": [
        "name = str(input(\"Enter your name please : \"))\n",
        "name"
      ],
      "metadata": {
        "id": "dBwyvi9E_EX7",
        "colab": {
          "base_uri": "https://localhost:8080/",
          "height": 53
        },
        "outputId": "648896c0-6b6d-483e-f857-ff662f60c743"
      },
      "execution_count": null,
      "outputs": [
        {
          "name": "stdout",
          "output_type": "stream",
          "text": [
            "Enter your name please : Shardendu Mishra \n"
          ]
        },
        {
          "output_type": "execute_result",
          "data": {
            "text/plain": [
              "'Shardendu Mishra '"
            ],
            "application/vnd.google.colaboratory.intrinsic+json": {
              "type": "string"
            }
          },
          "metadata": {},
          "execution_count": 28
        }
      ]
    },
    {
      "cell_type": "code",
      "source": [
        "print(\"Hi! \" + name + \", how are you ? \")"
      ],
      "metadata": {
        "colab": {
          "base_uri": "https://localhost:8080/"
        },
        "id": "-UPg6VOWfPYx",
        "outputId": "b3202dee-c62c-484f-95fc-1dbf229ea3a0"
      },
      "execution_count": null,
      "outputs": [
        {
          "output_type": "stream",
          "name": "stdout",
          "text": [
            "Hi! Shardendu Mishra , how are you ? \n"
          ]
        }
      ]
    },
    {
      "cell_type": "code",
      "source": [
        "print(\"Hello World\")\n",
        "print(np.e)\n",
        "print(np.pi)"
      ],
      "metadata": {
        "colab": {
          "base_uri": "https://localhost:8080/"
        },
        "id": "7Z50VuZCffkF",
        "outputId": "c5b7101b-e638-4f3d-a2ed-24456b7ffbe5"
      },
      "execution_count": null,
      "outputs": [
        {
          "output_type": "stream",
          "name": "stdout",
          "text": [
            "Hello World\n",
            "2.718281828459045\n",
            "3.141592653589793\n"
          ]
        }
      ]
    },
    {
      "cell_type": "code",
      "source": [
        "print(\"Decimal: %d\" % np.pi)"
      ],
      "metadata": {
        "colab": {
          "base_uri": "https://localhost:8080/"
        },
        "id": "sl0xbnjBgkS8",
        "outputId": "02b4f764-0b4f-451e-a59d-7b8ca18a8602"
      },
      "execution_count": null,
      "outputs": [
        {
          "output_type": "stream",
          "name": "stdout",
          "text": [
            "Decimal: 3\n"
          ]
        }
      ]
    },
    {
      "cell_type": "code",
      "source": [
        "import numpy as np\n",
        "print(\"Getting up to two digits after the decimal: %.2f + %d\" % (np.pi, np.pi))"
      ],
      "metadata": {
        "colab": {
          "base_uri": "https://localhost:8080/"
        },
        "id": "x5XOpt6ZheZ7",
        "outputId": "24ac3eb4-4504-437a-cf01-5ddaee462171"
      },
      "execution_count": null,
      "outputs": [
        {
          "output_type": "stream",
          "name": "stdout",
          "text": [
            "Getting up to two digits after the decimal: 3.14 + 3\n"
          ]
        }
      ]
    },
    {
      "cell_type": "code",
      "source": [
        "import numpy as np\n",
        "print(\"%0.2f\"%np.pi)\n",
        "print(\"%2.4f\"%np.pi)\n",
        "print(\"%0.2e\"%np.pi)\n",
        "print(\"%0.5g\"%np.pi)"
      ],
      "metadata": {
        "colab": {
          "base_uri": "https://localhost:8080/"
        },
        "id": "DByfbuD5iCc9",
        "outputId": "b091828e-a109-450a-80d4-aceb604c544f"
      },
      "execution_count": null,
      "outputs": [
        {
          "output_type": "stream",
          "name": "stdout",
          "text": [
            "3.14\n",
            "3.1416\n",
            "3.14e+00\n",
            "3.1416\n"
          ]
        }
      ]
    },
    {
      "cell_type": "code",
      "source": [
        "import numpy as np\n",
        "sum = np.pi + np.e\n",
        "print(\"The sum of %0.8f + %0.8f = %0.8f\" % (np.pi, np.e, sum))"
      ],
      "metadata": {
        "colab": {
          "base_uri": "https://localhost:8080/"
        },
        "id": "9pIbyqRDjFzw",
        "outputId": "295fd53e-68f4-4c78-d779-e355d2edc23f"
      },
      "execution_count": null,
      "outputs": [
        {
          "output_type": "stream",
          "name": "stdout",
          "text": [
            "The sum of 3.14159265 + 2.71828183 = 5.85987448\n"
          ]
        }
      ]
    },
    {
      "cell_type": "code",
      "source": [
        "import numpy as np\n",
        "array = np.array([[1, 2], [3, 4]])\n",
        "array"
      ],
      "metadata": {
        "colab": {
          "base_uri": "https://localhost:8080/"
        },
        "id": "FMrvxkwKmDPS",
        "outputId": "eeab492c-dcf3-45d1-ece1-113b51712182"
      },
      "execution_count": null,
      "outputs": [
        {
          "output_type": "execute_result",
          "data": {
            "text/plain": [
              "array([[1, 2],\n",
              "       [3, 4]])"
            ]
          },
          "metadata": {},
          "execution_count": 58
        }
      ]
    },
    {
      "cell_type": "code",
      "source": [
        "y = range(0,100,1);\n",
        "y = [0.02*i for i in range(100)]\n",
        "for i in range(100):\n",
        "  print(\"%.2f\"%y[i])"
      ],
      "metadata": {
        "colab": {
          "base_uri": "https://localhost:8080/"
        },
        "id": "C7Bow3NspH9F",
        "outputId": "a5abe085-e10f-4fc6-db17-a920bcb4e32e"
      },
      "execution_count": null,
      "outputs": [
        {
          "output_type": "stream",
          "name": "stdout",
          "text": [
            "0.00\n",
            "0.02\n",
            "0.04\n",
            "0.06\n",
            "0.08\n",
            "0.10\n",
            "0.12\n",
            "0.14\n",
            "0.16\n",
            "0.18\n",
            "0.20\n",
            "0.22\n",
            "0.24\n",
            "0.26\n",
            "0.28\n",
            "0.30\n",
            "0.32\n",
            "0.34\n",
            "0.36\n",
            "0.38\n",
            "0.40\n",
            "0.42\n",
            "0.44\n",
            "0.46\n",
            "0.48\n",
            "0.50\n",
            "0.52\n",
            "0.54\n",
            "0.56\n",
            "0.58\n",
            "0.60\n",
            "0.62\n",
            "0.64\n",
            "0.66\n",
            "0.68\n",
            "0.70\n",
            "0.72\n",
            "0.74\n",
            "0.76\n",
            "0.78\n",
            "0.80\n",
            "0.82\n",
            "0.84\n",
            "0.86\n",
            "0.88\n",
            "0.90\n",
            "0.92\n",
            "0.94\n",
            "0.96\n",
            "0.98\n",
            "1.00\n",
            "1.02\n",
            "1.04\n",
            "1.06\n",
            "1.08\n",
            "1.10\n",
            "1.12\n",
            "1.14\n",
            "1.16\n",
            "1.18\n",
            "1.20\n",
            "1.22\n",
            "1.24\n",
            "1.26\n",
            "1.28\n",
            "1.30\n",
            "1.32\n",
            "1.34\n",
            "1.36\n",
            "1.38\n",
            "1.40\n",
            "1.42\n",
            "1.44\n",
            "1.46\n",
            "1.48\n",
            "1.50\n",
            "1.52\n",
            "1.54\n",
            "1.56\n",
            "1.58\n",
            "1.60\n",
            "1.62\n",
            "1.64\n",
            "1.66\n",
            "1.68\n",
            "1.70\n",
            "1.72\n",
            "1.74\n",
            "1.76\n",
            "1.78\n",
            "1.80\n",
            "1.82\n",
            "1.84\n",
            "1.86\n",
            "1.88\n",
            "1.90\n",
            "1.92\n",
            "1.94\n",
            "1.96\n",
            "1.98\n"
          ]
        }
      ]
    },
    {
      "cell_type": "code",
      "source": [],
      "metadata": {
        "id": "246WnHoupyIv"
      },
      "execution_count": null,
      "outputs": []
    }
  ]
}