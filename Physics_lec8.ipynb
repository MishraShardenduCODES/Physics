{
  "nbformat": 4,
  "nbformat_minor": 0,
  "metadata": {
    "colab": {
      "provenance": [],
      "authorship_tag": "ABX9TyNaHwQmlPYYUwG/c4yflKVn",
      "include_colab_link": true
    },
    "kernelspec": {
      "name": "python3",
      "display_name": "Python 3"
    },
    "language_info": {
      "name": "python"
    }
  },
  "cells": [
    {
      "cell_type": "markdown",
      "metadata": {
        "id": "view-in-github",
        "colab_type": "text"
      },
      "source": [
        "<a href=\"https://colab.research.google.com/github/MishraShardenduCODES/Physics/blob/main/Physics_lec8.ipynb\" target=\"_parent\"><img src=\"https://colab.research.google.com/assets/colab-badge.svg\" alt=\"Open In Colab\"/></a>"
      ]
    },
    {
      "cell_type": "code",
      "execution_count": 30,
      "metadata": {
        "id": "S5mLmy-6c2OJ"
      },
      "outputs": [],
      "source": [
        "def factorialf(x):\n",
        "  f=1\n",
        "  for i in range(1,x+1):\n",
        "    f=f*i\n",
        "  return f"
      ]
    },
    {
      "cell_type": "code",
      "execution_count": 31,
      "metadata": {
        "colab": {
          "base_uri": "https://localhost:8080/"
        },
        "id": "MStU75EHiQyx",
        "outputId": "7c5c9f92-aa64-4053-9251-46f3bb4b81de"
      },
      "outputs": [
        {
          "output_type": "stream",
          "name": "stdout",
          "text": [
            "13.0\n"
          ]
        }
      ],
      "source": [
        "def expo(x):\n",
        "  exp=1\n",
        "  for i in range (1,x+1):\n",
        "    f=(x**i)/factorialf(i)\n",
        "    exp+=f\n",
        "  return exp\n",
        "print(expo(3))"
      ]
    },
    {
      "cell_type": "code",
      "source": [
        "def fibo(x):\n",
        "  if(x==1 or x==0):\n",
        "    return x\n",
        "  else:\n",
        "    return fibo(x-1)+fibo(x-2)\n",
        "\n",
        "print(fibo(3))"
      ],
      "metadata": {
        "colab": {
          "base_uri": "https://localhost:8080/"
        },
        "id": "VgmfMrSlnvKz",
        "outputId": "b7c1e4f2-4776-4141-d262-99651f284988"
      },
      "execution_count": 32,
      "outputs": [
        {
          "output_type": "stream",
          "name": "stdout",
          "text": [
            "2\n"
          ]
        }
      ]
    }
  ]
}